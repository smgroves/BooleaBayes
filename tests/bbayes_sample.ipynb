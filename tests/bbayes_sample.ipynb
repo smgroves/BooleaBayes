{
 "cells": [
  {
   "cell_type": "markdown",
   "metadata": {},
   "source": [
    "## Booleabayes Example Usage\n",
    "Function call types:\n",
    "* `load` = loading data\n",
    "* `proc` = processing\n",
    "* `rw` = random walk\n",
    "* `plot` = plotting\n",
    "* `tl` = tools\n",
    "* `utils` = utilities"
   ]
  },
  {
   "cell_type": "code",
   "execution_count": 20,
   "metadata": {},
   "outputs": [],
   "source": [
    "import sys\n",
    "import os\n",
    "import time\n",
    "import random\n",
    "import os.path as op\n",
    "from datetime import timedelta\n",
    "\n",
    "from load import *\n",
    "import proc\n",
    "import plot\n",
    "import rw\n",
    "import tl\n",
    "import utils as ut"
   ]
  },
  {
   "cell_type": "code",
   "execution_count": 2,
   "metadata": {},
   "outputs": [],
   "source": [
    "# Input data locations\n",
    "DATA_DIR = './test_data'\n",
    "network_path = 'loopy_network_simplified.csv'\n",
    "data_t0_path = 'train_t0_tumor.csv'\n",
    "data_t1_path = 'train_t1_tumor.csv'\n",
    "data_test_t0_path = 'test_t0_tumor.csv'\n",
    "data_test_t1_path = 'test_t1_tumor.csv'\n",
    "cellID_table = 'network_clusters_tumor.csv'\n",
    "\n",
    "# Output directories\n",
    "VAL_DIR = './test_data/validation'\n",
    "OUTPUT_DIR = './test_data/output'"
   ]
  },
  {
   "cell_type": "markdown",
   "metadata": {},
   "source": [
    "## Load Network"
   ]
  },
  {
   "cell_type": "code",
   "execution_count": 3,
   "metadata": {},
   "outputs": [],
   "source": [
    "# Load the tf network and generate a graph using graph-tool\n",
    "graph, vertex_dict = load_network(f'{DATA_DIR}/{network_path}', remove_sinks=False, \n",
    "                                  remove_selfloops=False, remove_sources=False)\n",
    "\n",
    "# Maps: vertex -> name (basically the inverse of vertex_dict)\n",
    "v_names, nodes = ut.get_nodes(vertex_dict, graph)"
   ]
  },
  {
   "cell_type": "markdown",
   "metadata": {},
   "source": [
    "## Load Data and Clusters\n",
    "* The `ut.get_clusters()` function to handle creating the cluster dataframe\n",
    "    - The function checks for a `cellID` table and column headers to create the dataframe\n",
    "    - If no `cellID` table is passed the dataframe is created using the data index with one `class` column filled with zero's\n",
    "* Example function call with data that is already split into train/test:\n",
    "\n",
    "```python\n",
    "clusters = ut.get_clusters(data_train, data_test, is_data_split=True, \n",
    "                           cellID_table=\"cellID_table.csv\",\n",
    "                           cluster_header_list=cluster_header_list)\n",
    "```\n",
    "* Example function call with no `cellID` table:\n",
    "\n",
    "```python\n",
    "clusters = ut.get_clusters(data_t0)\n",
    "```\n",
    "* View output format in `./test_data/output`:\n",
    "    - train_t0_cline.csv\n",
    "    - train_t1_cline.csv\n",
    "    - test_t0_cline.csv\n",
    "    - test_t1_cline.csv\n",
    "    - test_train_indeces_cline.p"
   ]
  },
  {
   "cell_type": "code",
   "execution_count": 6,
   "metadata": {},
   "outputs": [],
   "source": [
    "# Assign headers to cluster csv, with one called \"class\"\n",
    "cluster_header_list = ['class']\n",
    "node_normalization = 0.3\n",
    "transpose = True\n",
    "\n",
    "data_t0 = load_data(f'{DATA_DIR}/{data_t0_path}', nodes, norm=node_normalization, \n",
    "                    delimiter=',', log1p=False, transpose=transpose, \n",
    "                    sample_order=False, fillna=0)\n",
    "\n",
    "data_t1 = load_data(f'{DATA_DIR}/{data_t1_path}', nodes, norm=node_normalization, \n",
    "                    delimiter=',', log1p=False, transpose=transpose, \n",
    "                    sample_order=False, fillna=0)\n",
    "\n",
    "# Only need to pass 'data_t0' since this data is not split into train/test\n",
    "clusters = ut.get_clusters(data_t0, cellID_table=f\"{DATA_DIR}/{cellID_table}\", \n",
    "                           cluster_header_list=cluster_header_list)\n",
    "\n",
    "data_t0, data_test_t0, data_t1, data_test_t1, clusters_train, clusters_test = ut.split_train_test(data_t0, data_t1, clusters,\n",
    "                                                                                                  OUTPUT_DIR, fname='cline')"
   ]
  },
  {
   "cell_type": "markdown",
   "metadata": {},
   "source": [
    "## Binarize data\n",
    "* The `save` parameter in `proc.binararize_data()` lets users determine if they want the binarized data written to a location sepcified by `save_dir` and `fname`\n",
    "* View output format in `./test_data/output`:\n",
    "    - binarized_data_t0.csv\n",
    "    - binarized_data_t1.csv\n",
    "    - binarized_data_test_t0.csv\n",
    "    - binarized_data_test_t1.csv"
   ]
  },
  {
   "cell_type": "code",
   "execution_count": 7,
   "metadata": {},
   "outputs": [],
   "source": [
    "binarized_data_t0 = proc.binarize_data(data_t0, phenotype_labels=clusters, save=True,\n",
    "                                       save_dir=OUTPUT_DIR, fname='binarized_data_t0')\n",
    "\n",
    "binarized_data_t1 = proc.binarize_data(data_t1, phenotype_labels=clusters, save=True, \n",
    "                                       save_dir=OUTPUT_DIR, fname='binarized_data_t1')\n",
    "\n",
    "binarized_data_test_t0 = proc.binarize_data(data_test_t0, phenotype_labels=clusters, save=True,\n",
    "                                            save_dir=OUTPUT_DIR, fname='binarized_data_test_t0')\n",
    "\n",
    "binarized_data_test_t1 = proc.binarize_data(data_test_t1, phenotype_labels=clusters, save=True, \n",
    "                                            save_dir=OUTPUT_DIR, fname='binarized_data_test_t1')"
   ]
  },
  {
   "cell_type": "markdown",
   "metadata": {},
   "source": [
    "## Fit rules with training dataset\n",
    "**Option 1:** Calculate rules using `tl.get_rules_scvelo()` or `tl.get_rules()`\n",
    "* User has the option to plot and save the rules using the following function arguments:\n",
    "    - `plot` - determines if the plots should be created \n",
    "    - `show_plot` - determines if the plots should be shown in std. out\n",
    "    - `save_plot` - determines if the plots should be saved\n",
    "    - `save_dir` - file path to save the plots\n",
    "* View output format in `./test_data/output`:\n",
    "    - rule_plots/*\n",
    "    - rules.txt\n",
    "    - strengths.csv\n",
    "    - signed_strengths.csv"
   ]
  },
  {
   "cell_type": "code",
   "execution_count": null,
   "metadata": {},
   "outputs": [],
   "source": [
    "# Don't remove any parents\n",
    "node_threshold = 0  \n",
    "\n",
    "# Note: this step may take a while\n",
    "rules, regulators_dict, strengths, signed_strengths = tl.get_rules_scvelo(data_t0, data_t1, vertex_dict, \n",
    "                                                             plot=True, show_plot=False, save_plot=True,\n",
    "                                                             save_dir=f'{OUTPUT_DIR}/rule_plots', threshold=node_threshold)\n",
    "# Save rules to text file \n",
    "tl.save_rules(rules, regulators_dict, fname=f'{OUTPUT_DIR}/rules.txt')\n",
    "\n",
    "strengths.to_csv(f'{OUTPUT_DIR}/strengths.csv')\n",
    "signed_strengths.to_csv(f'{OUTPUT_DIR}/signed_strengths.csv')"
   ]
  },
  {
   "cell_type": "markdown",
   "metadata": {},
   "source": [
    "**Option 2:** Load existing rules from file using `load.load_rules()`"
   ]
  },
  {
   "cell_type": "code",
   "execution_count": 8,
   "metadata": {},
   "outputs": [],
   "source": [
    "rules, regulators_dict = load_rules(fname=f'{OUTPUT_DIR}/rules.txt')"
   ]
  },
  {
   "cell_type": "markdown",
   "metadata": {},
   "source": [
    "## Perform Validation and Plot Accuracy Metrics"
   ]
  },
  {
   "cell_type": "markdown",
   "metadata": {},
   "source": [
    "**Option 1**: User can perform validation on test data by calling accuracy functions individually"
   ]
  },
  {
   "cell_type": "code",
   "execution_count": null,
   "metadata": {},
   "outputs": [],
   "source": [
    "# Example generating validation output file \n",
    "outfile = open(f\"{OUTPUT_DIR}/tprs_fprs.csv\", 'w+')\n",
    "\n",
    "ind = [x for x in np.linspace(0, 1, 50)]\n",
    "tpr_all = pd.DataFrame(index=ind)\n",
    "fpr_all = pd.DataFrame(index=ind)\n",
    "area_all = []\n",
    "\n",
    "outfile.write(f\",,\")\n",
    "for j in ind:\n",
    "    outfile.write(str(j)+',')\n",
    "outfile.write('\\n')\n",
    "\n",
    "for g in nodes:\n",
    "    print(g)\n",
    "    validation = plot.plot_accuracy_scvelo(data_test_t0,data_test_t1, g, regulators_dict, rules, \n",
    "                                           save_dir=VAL_DIR, save=True, save_df=True)\n",
    "    \n",
    "    tprs, fprs, area = tl.roc(validation, g, n_thresholds=50)\n",
    "    tpr_all[g] = tprs\n",
    "    fpr_all[g] = fprs\n",
    "    outfile.write(f\"{g},tprs,{tprs}\\n\")\n",
    "    outfile.write(f\"{g},fprs,{fprs}\\n\")\n",
    "    area_all.append(area)\n",
    "\n",
    "outfile.close()"
   ]
  },
  {
   "cell_type": "markdown",
   "metadata": {},
   "source": [
    "**Option 2**: User can call the `tl.fit_validation()` to do all of the same steps in one call\n",
    "* User can specify whether to show and/or save the plots (this example saves the plots but does not show them here)\n",
    "* View output format in `./test_data/validation`:\n",
    "    - tprs_fprs.csv\n",
    "    - accuracy_plots (csv and pdf)"
   ]
  },
  {
   "cell_type": "code",
   "execution_count": null,
   "metadata": {},
   "outputs": [],
   "source": [
    "validation, tprs_all, fprs_all, area_all = tl.fit_validation(data_test_t0, data_test_t1, nodes, regulators_dict, rules, \n",
    "                                                             save=True, save_dir=VAL_DIR, show_plots=False, save_df=True)"
   ]
  },
  {
   "cell_type": "markdown",
   "metadata": {},
   "source": [
    "**AUC Plots**\n",
    "* View output format in `./test_data/validation`:\n",
    "    - aucs.csv\n",
    "    - aucs_plot.pdf\n",
    "    - ROC_AUC_average.pdf"
   ]
  },
  {
   "cell_type": "code",
   "execution_count": 10,
   "metadata": {},
   "outputs": [],
   "source": [
    "# Saves auc values for each gene (node) in the passed directory as 'aucs.csv'\n",
    "tl.save_auc_by_gene(area_all, nodes, VAL_DIR)"
   ]
  },
  {
   "cell_type": "code",
   "execution_count": 18,
   "metadata": {},
   "outputs": [
    {
     "name": "stdout",
     "output_type": "stream",
     "text": [
      "AUC means:  0\n",
      "ASCL1      0.957131\n",
      "BCL3       0.917031\n",
      "CEBPD      0.840360\n",
      "EBF1       0.927168\n",
      "ELF3       0.921738\n",
      "FLI1       0.979008\n",
      "FOXA1      0.980705\n",
      "FOXA2      0.993918\n",
      "GATA4      0.864254\n",
      "GFI1B      0.848854\n",
      "HES1       0.913961\n",
      "ISL1       0.987215\n",
      "KLF2       0.972740\n",
      "MITF       0.906736\n",
      "MYC        0.903447\n",
      "MYCN       0.918485\n",
      "NEUROD1    0.000000\n",
      "NEUROD2    0.856313\n",
      "NR0B1      0.698491\n",
      "NR0B2      0.898675\n",
      "OLIG2      0.939064\n",
      "POU2F3     0.818254\n",
      "RARG       0.946178\n",
      "RBPJ       0.914529\n",
      "RCOR2      0.933696\n",
      "REST       0.968985\n",
      "SIX5       0.000000\n",
      "SMAD4      0.974962\n",
      "SOX11      0.934998\n",
      "STAT6      0.922167\n",
      "TCF3       0.975092\n",
      "TCF4       0.962280\n",
      "TEAD4      0.930547\n",
      "YAP1       0.782971\n",
      "ZNF217     0.882125\n",
      "dtype: float64\n"
     ]
    },
    {
     "data": {
      "image/png": "[encoded data removed]",
      "text/plain": [
       "<Figure size 432x288 with 1 Axes>"
      ]
     },
     "metadata": {
      "needs_background": "light"
     },
     "output_type": "display_data"
    }
   ],
   "source": [
    "# Plot aucs\n",
    "n = len(nodes)\n",
    "aucs = pd.read_csv(f'{VAL_DIR}/aucs.csv', header=None, index_col=0)\n",
    "print(\"AUC means: \",aucs.mean(axis = 1))\n",
    "\n",
    "plot.plot_aucs(aucs, save=True, save_dir=VAL_DIR, show_plot=True)"
   ]
  },
  {
   "cell_type": "code",
   "execution_count": 13,
   "metadata": {},
   "outputs": [],
   "source": [
    "# Function to calculate roc and tpr, fpr, area from saved validation files\n",
    "tpr_all, fpr_all, area_all = tl.roc_from_file(f'{VAL_DIR}/accuracy_plots', nodes, save=True, save_dir=VAL_DIR)"
   ]
  },
  {
   "cell_type": "code",
   "execution_count": 14,
   "metadata": {},
   "outputs": [
    {
     "data": {
      "image/png": "[encoded data removed]",
      "text/plain": [
       "<Figure size 432x288 with 1 Axes>"
      ]
     },
     "metadata": {
      "needs_background": "light"
     },
     "output_type": "display_data"
    }
   ],
   "source": [
    "plot.plot_validation_avgs(fpr_all, tpr_all, len(nodes), area_all, save=True, save_dir=VAL_DIR, show_plot=True)"
   ]
  },
  {
   "cell_type": "markdown",
   "metadata": {},
   "source": [
    "## Get attractors and set phenotypes using nearest neighbors\n",
    "* `ut.find_avg_states()` returns a dictionary of the average states and calls `get_avg_state_index()` to handle average state index files\n",
    "* View output format in `./test_data/output`:\n",
    "    - average_states.txt\n",
    "    - average_states_idx_Tumor1.txt\n",
    "    - average_states_idx_Tumor2.txt\n",
    "    - average_states.pdf"
   ]
  },
  {
   "cell_type": "markdown",
   "metadata": {},
   "source": [
    "**Find average states**"
   ]
  },
  {
   "cell_type": "code",
   "execution_count": 22,
   "metadata": {},
   "outputs": [
    {
     "name": "stdout",
     "output_type": "stream",
     "text": [
      "Average states:  {'Tumor1': 22959801556, 'Tumor2': 11366119971}\n"
     ]
    },
    {
     "data": {
      "image/png": "[encoded data removed]",
      "text/plain": [
       "<Figure size 288x576 with 1 Axes>"
      ]
     },
     "metadata": {
      "needs_background": "light"
     },
     "output_type": "display_data"
    }
   ],
   "source": [
    "# Find average states from binarized data and write the avg state index files\n",
    "average_states = tl.find_avg_states(binarized_data_t0, nodes, save_dir=OUTPUT_DIR)\n",
    "print('Average states: ', average_states)\n",
    "\n",
    "# Plot average state for each subtype\n",
    "plot.plot_attractors(f'{OUTPUT_DIR}/average_states.txt', save_dir=OUTPUT_DIR)"
   ]
  },
  {
   "cell_type": "markdown",
   "metadata": {},
   "source": [
    "**Find Attractors**\n",
    "* The `tl.find_attractors()` function checks if `tf_basin < 0` and calculates the average minimum distance dictionary\n",
    "* If `tf_basin is not < 0` , it uses the constant integer value\n",
    "* `tl.write_attractor_dict()` writes an attractor dictionary to the specified output file location\n",
    "* View output format in `./test_data/output`:\n",
    "    - attractors_Tumor1.txt\n",
    "    - attractors_Tumor2.txt"
   ]
  },
  {
   "cell_type": "code",
   "execution_count": null,
   "metadata": {},
   "outputs": [],
   "source": [
    "tf_basin = -1\n",
    "on_nodes = []\n",
    "off_nodes = []\n",
    "\n",
    "start = time.time()\n",
    " \n",
    "attractor_dict = tl.find_attractors(binarized_data_t0, rules, nodes, regulators_dict, tf_basin=tf_basin, \n",
    "                                    save_dir=OUTPUT_DIR, on_nodes=on_nodes, off_nodes=off_nodes)\n",
    "end = time.time()\n",
    "print('Time to find attractors: ', str(timedelta(seconds=end-start)))"
   ]
  },
  {
   "cell_type": "markdown",
   "metadata": {},
   "source": [
    "**Save and Plot Attractors** \n",
    "* View output format in `./test_data/output`:\n",
    "    - attractors_unfiltered.txt\n",
    "    - attractors_unfiltered.pdf"
   ]
  },
  {
   "cell_type": "code",
   "execution_count": 17,
   "metadata": {},
   "outputs": [
    {
     "data": {
      "image/png": "[encoded data removed]",
      "text/plain": [
       "<Figure size 288x576 with 1 Axes>"
      ]
     },
     "metadata": {
      "needs_background": "light"
     },
     "output_type": "display_data"
    }
   ],
   "source": [
    "outfile = open(f'{OUTPUT_DIR}/attractors_unfiltered.txt', 'w+')\n",
    "tl.write_attractor_dict(attractor_dict, nodes, outfile)\n",
    "\n",
    "# Plot average state for each subtype\n",
    "plot.plot_attractors(f'{OUTPUT_DIR}/attractors_unfiltered.txt')"
   ]
  },
  {
   "cell_type": "code",
   "execution_count": null,
   "metadata": {},
   "outputs": [],
   "source": []
  }
 ],
 "metadata": {
  "kernelspec": {
   "display_name": "bayes",
   "language": "python",
   "name": "bayes"
  },
  "language_info": {
   "codemirror_mode": {
    "name": "ipython",
    "version": 3
   },
   "file_extension": ".py",
   "mimetype": "text/x-python",
   "name": "python",
   "nbconvert_exporter": "python",
   "pygments_lexer": "ipython3",
   "version": "3.9.0"
  }
 },
 "nbformat": 4,
 "nbformat_minor": 4
}
