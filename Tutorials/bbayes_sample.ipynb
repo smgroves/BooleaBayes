{
 "cells": [
  {
   "cell_type": "markdown",
   "metadata": {},
   "source": [
    "# Booleabayes Example \n",
    "Function call types:\n",
    "* `load` = loading data\n",
    "* `proc` = processing\n",
    "* `rw` = random walk\n",
    "* `plot` = plotting\n",
    "* `tl` = tools (including rule fitting and finding attractors)\n",
    "* `utils` = utilities"
   ]
  },
  {
   "cell_type": "code",
   "execution_count": 1,
   "metadata": {},
   "outputs": [
    {
     "name": "stderr",
     "output_type": "stream",
     "text": [
      "\n",
      "(ipykernel_launcher.py:86933): Gtk-WARNING **: 14:39:37.666: Locale not supported by C library.\n",
      "\tUsing the fallback 'C' locale.\n"
     ]
    }
   ],
   "source": [
    "import sys\n",
    "import os\n",
    "import time\n",
    "import random\n",
    "import os.path as op\n",
    "from datetime import timedelta\n",
    "import pandas as pd\n",
    "\n",
    "import booleabayes as bb"
   ]
  },
  {
   "cell_type": "markdown",
   "metadata": {},
   "source": [
    "Booleabayes can be run on bulk RNA-seq data or single-cell RNA-seq data. If you are interested in using metadata such as cluster information, include this data below. Booleabayes takes in a network file with two columns: the first column should be the parent nodes and the second column should be the child nodes of each edge in the network. "
   ]
  },
  {
   "cell_type": "code",
   "execution_count": 2,
   "metadata": {},
   "outputs": [],
   "source": [
    "# Input data locations\n",
    "DATA_DIR = './test_data'\n",
    "network_path = 'tf-lit-network.csv' #literature-derived network\n",
    "data_path = 'data.csv' # sample data is a subset of data from PMID: 31068696\n",
    "cellID_table = 'cellID-lookuptable_x1.csv' #metadata from PMID: 31068696\n",
    "\n",
    "# Output directories\n",
    "OUTPUT_DIR = './output'\n",
    "VAL_DIR = './output/validation'\n",
    "ATTRACTOR_DIR = \"./output/attractors\"\n",
    "PERTURB_DIR = \"./output/perturbations\"\n"
   ]
  },
  {
   "cell_type": "markdown",
   "metadata": {},
   "source": [
    "## Load Network\n",
    "\n",
    "BooleaBayes starts with a network of nodes connected by edges. This network can be filtered and pruned with BooleaBayes using the gene expression data in later steps, and the exact edge weights will be predicted (positive/activating or negative) and used in simulations. "
   ]
  },
  {
   "cell_type": "code",
   "execution_count": 3,
   "metadata": {},
   "outputs": [
    {
     "name": "stdout",
     "output_type": "stream",
     "text": [
      "==================================\n",
      "Graph properties\n",
      "==================================\n",
      "<Graph object, directed, with 16 vertices and 63 edges, 3 internal vertex properties, at 0x1d7cb5ee0>\n",
      "Number of nodes: 16\n",
      "Nodes:  ['ARX', 'FOXA2', 'GCG', 'INS', 'ISL1', 'JUN', 'MAFA', 'MAFB', 'MYC', 'NEUROD1', 'NEUROG3', 'NKX2-2', 'NKX6-1', 'PAX4', 'PAX6', 'PDX1']\n",
      "Sources:  1 ['JUN']\n",
      "Sinks:  2 ['INS', 'GCG']\n",
      "Network is a single connected component:  True\n",
      "Directed acyclic graph:  False\n",
      "==================================\n"
     ]
    }
   ],
   "source": [
    "# Load the tf network and generate a graph using graph-tool\n",
    "graph, vertex_dict = bb.load.load_network(f'{DATA_DIR}/{network_path}', remove_sinks=False, remove_selfloops=True,\n",
    "                                              remove_sources=False)\n",
    "\n",
    "# Maps: vertex -> name (basically the inverse of vertex_dict)\n",
    "v_names, nodes = bb.utils.get_nodes(vertex_dict, graph)\n",
    "\n",
    "# Print out information about the network, with optional simple plot of network\n",
    "bb.utils.print_graph_info(graph, vertex_dict, nodes, dir_prefix = OUTPUT_DIR,plot = True, add_edge_weights=False)\n",
    "\n",
    "# Note that for our particular network, JUN is a source, meaning it has no parents. \n",
    "# A pseudo-self-loop will be added (if it doesn't exist already) and JUN expression will be predicted from itself."
   ]
  },
  {
   "cell_type": "code",
   "execution_count": 17,
   "metadata": {},
   "outputs": [
    {
     "data": {
      "text/plain": [
       "<Graph object, directed, with 16 vertices and 63 edges, 3 internal vertex properties, at 0x109bdbee0>"
      ]
     },
     "execution_count": 17,
     "metadata": {},
     "output_type": "execute_result"
    }
   ],
   "source": [
    "graph"
   ]
  },
  {
   "cell_type": "markdown",
   "metadata": {},
   "source": [
    "## Load Data and Clusters & Split into Training and Testing Sets\n",
    "* BooleaBayes takes bulk or single cell RNA-seq data in the format of samples (columns) by genes (rows) [Note option to transpose from csv]. It can take two timepoints or pseudotimepoints if they exist (i.e. from a trajectory inference method) as data_t0 and data_t1. Note that if the timepoints are significantly far apart (hours), the predictions may not work as well.\n",
    "* The `utils.get_clusters()` function to handle creating the cluster dataframe\n",
    "    - The function checks for a `cellID` table and column headers to create the dataframe\n",
    "    - If no `cellID` table is passed the dataframe is created using the data index with one `class` column filled with zero's\n",
    "* Example function call with data that is already split into train/test:\n",
    "\n",
    "```python\n",
    "clusters = ut.get_clusters(data_train, data_test, is_data_split=True, \n",
    "                           cellID_table=\"cellID_table.csv\",\n",
    "                           cluster_header_list=cluster_header_list)\n",
    "```\n",
    "* Example function call with no `cellID` table:\n",
    "\n",
    "```python\n",
    "clusters = ut.get_clusters(data_t0)\n",
    "```\n",
    "* View output format in `./test_data/output`:\n",
    "    - train_t0.csv\n",
    "    - train_t1.csv (if t1 is given)\n",
    "    - test_t0.csv\n",
    "    - test_t1.csv (if t1 is given)\n",
    "    - test_train_indeces_cline.p"
   ]
  },
  {
   "cell_type": "code",
   "execution_count": 22,
   "metadata": {},
   "outputs": [],
   "source": [
    "# Assign headers to cluster csv, with one called \"class\"\n",
    "cluster_header_list = ['CellStage','class','CellProtocol']\n",
    "node_normalization = 0.3 #look at documentation to understand the options for normalizing the data. \n",
    "transpose = True\n",
    "\n",
    "data = bb.load.load_data(f'{DATA_DIR}/{data_path}', nodes, norm=node_normalization,\n",
    "                        delimiter=',', log1p=False, transpose=transpose,\n",
    "                        sample_order=False, fillna=0)\n",
    "# Only need to pass 'data' since this data is not split into train/test\n",
    "clusters = bb.utils.get_clusters(data, cellID_table=f\"{DATA_DIR}/{cellID_table}\",\n",
    "                               cluster_header_list=cluster_header_list)\n",
    "\n",
    "os.mkdir(f\"{DATA_DIR}/data_split\")\n",
    "data_train, data_test, _, _, clusters_train, clusters_test =  bb.utils.split_train_test(data, data_t1 = None, clusters = clusters,\n",
    "                                                                                                        save_dir = f\"{OUTPUT_DIR}/data_split\")"
   ]
  },
  {
   "cell_type": "markdown",
   "metadata": {},
   "source": [
    "## Binarize data\n",
    "* The `save` parameter in `proc.binararize_data()` lets users determine if they want the binarized data written to a location sepcified by `save_dir` and `fname`\n",
    "* View output format in `./test_data/output`:\n",
    "    - binarized_data_t0.csv\n",
    "    - binarized_data_t1.csv\n",
    "    - binarized_data_test_t0.csv\n",
    "    - binarized_data_test_t1.csv"
   ]
  },
  {
   "cell_type": "code",
   "execution_count": 23,
   "metadata": {},
   "outputs": [],
   "source": [
    "binarized_data = bb.proc.binarize_data(data_train, phenotype_labels=clusters, save=True,\n",
    "                                       save_dir=OUTPUT_DIR, fname='binarized_data_train')\n",
    "\n",
    "binarized_data_test = bb.proc.binarize_data(data_test, phenotype_labels=clusters, save=True,\n",
    "                                            save_dir=OUTPUT_DIR, fname='binarized_data_test')"
   ]
  },
  {
   "cell_type": "markdown",
   "metadata": {},
   "source": [
    "## Fit rules with training dataset\n",
    "**Option 1:** Calculate rules using `tl.get_rules_scvelo()` or `tl.get_rules()`. See documentation for get_rules_scvelo(), which takes in two [pseudo]timepoints.\n",
    "* User has the option to plot and save the rules using the following function arguments:\n",
    "    - `plot` - determines if the plots should be created. Reference Wooten, Groves et al. 2019 for a walk-through of rule plots.\n",
    "    - `show_plot` - determines if the plots should be shown in std. out\n",
    "    - `save_plot` - determines if the plots should be saved\n",
    "    - `save_dir` - file path to save the plots\n",
    "* View output format in `./test_data/output`:\n",
    "    - rule_plots/*\n",
    "    - rules.txt\n",
    "    - strengths.csv\n",
    "    - signed_strengths.csv"
   ]
  },
  {
   "cell_type": "code",
   "execution_count": 25,
   "metadata": {},
   "outputs": [
    {
     "name": "stdout",
     "output_type": "stream",
     "text": [
      "Fitting  0 / 16 rules\n",
      "JUN\n",
      "0\n",
      "...checking if JUN is irrelevant\n",
      "Fitting  1 / 16 rules\n",
      "MYC\n",
      "0\n",
      "...checking if PDX1 is irrelevant\n",
      "Fitting  2 / 16 rules\n",
      "INS\n",
      "0\n",
      "100\n",
      "200\n",
      "300\n",
      "400\n",
      "500\n",
      "...checking if PDX1 is irrelevant\n",
      "...checking if MAFA is irrelevant\n",
      "...checking if PAX6 is irrelevant\n",
      "...checking if NEUROD1 is irrelevant\n",
      "...checking if NKX2-2 is irrelevant\n",
      "...checking if MAFB is irrelevant\n",
      "...checking if JUN is irrelevant\n",
      "...checking if ISL1 is irrelevant\n",
      "...checking if MYC is irrelevant\n",
      "Fitting  3 / 16 rules\n",
      "MAFA\n",
      "0\n",
      "100\n",
      "200\n",
      "...checking if PDX1 is irrelevant\n",
      "...checking if NKX6-1 is irrelevant\n",
      "...checking if NEUROD1 is irrelevant\n",
      "...checking if NKX2-2 is irrelevant\n",
      "...checking if FOXA2 is irrelevant\n",
      "...checking if MAFB is irrelevant\n",
      "...checking if JUN is irrelevant\n",
      "...checking if ISL1 is irrelevant\n",
      "Fitting  4 / 16 rules\n",
      "NEUROG3\n",
      "0\n",
      "...checking if NKX6-1 is irrelevant\n",
      "Fitting  5 / 16 rules\n",
      "ARX\n",
      "0\n",
      "100\n",
      "...checking if PAX4 is irrelevant\n",
      "...checking if PDX1 is irrelevant\n",
      "...checking if NKX6-1 is irrelevant\n",
      "...checking if NKX2-2 is irrelevant\n",
      "...checking if FOXA2 is irrelevant\n",
      "...checking if NEUROG3 is irrelevant\n",
      "...checking if ISL1 is irrelevant\n",
      "Fitting  6 / 16 rules\n",
      "NKX2-2\n",
      "0\n",
      "...checking if NEUROD1 is irrelevant\n",
      "...checking if FOXA2 is irrelevant\n",
      "...checking if NEUROG3 is irrelevant\n",
      "Fitting  7 / 16 rules\n",
      "FOXA2\n",
      "0\n",
      "...checking if NKX2-2 is irrelevant\n",
      "...checking if ARX is irrelevant\n",
      "Fitting  8 / 16 rules\n",
      "NKX6-1\n",
      "0\n",
      "...checking if ARX is irrelevant\n",
      "...checking if PDX1 is irrelevant\n",
      "...checking if MAFB is irrelevant\n",
      "Fitting  9 / 16 rules\n",
      "PAX6\n",
      "0\n",
      "...checking if PDX1 is irrelevant\n",
      "...checking if NEUROD1 is irrelevant\n",
      "Fitting  10 / 16 rules\n",
      "NEUROD1\n",
      "0\n",
      "...checking if PDX1 is irrelevant\n",
      "...checking if NKX6-1 is irrelevant\n",
      "...checking if PAX6 is irrelevant\n",
      "...checking if NKX2-2 is irrelevant\n",
      "...checking if NEUROG3 is irrelevant\n",
      "Fitting  11 / 16 rules\n",
      "MAFB\n",
      "0\n",
      "...checking if PAX6 is irrelevant\n",
      "Fitting  12 / 16 rules\n",
      "ISL1\n",
      "0\n",
      "...checking if JUN is irrelevant\n",
      "Fitting  13 / 16 rules\n",
      "GCG\n",
      "0\n",
      "100\n",
      "200\n",
      "300\n",
      "400\n",
      "500\n",
      "...checking if PAX4 is irrelevant\n",
      "...checking if PDX1 is irrelevant\n",
      "...checking if MAFA is irrelevant\n",
      "...checking if NKX6-1 is irrelevant\n",
      "...checking if PAX6 is irrelevant\n",
      "...checking if NEUROD1 is irrelevant\n",
      "...checking if FOXA2 is irrelevant\n",
      "...checking if MAFB is irrelevant\n",
      "...checking if ISL1 is irrelevant\n",
      "Fitting  14 / 16 rules\n",
      "PAX4\n",
      "0\n",
      "...checking if ARX is irrelevant\n",
      "...checking if NEUROG3 is irrelevant\n",
      "Fitting  15 / 16 rules\n",
      "PDX1\n",
      "0\n",
      "100\n",
      "200\n",
      "...checking if MAFA is irrelevant\n",
      "...checking if NKX6-1 is irrelevant\n",
      "...checking if PAX6 is irrelevant\n",
      "...checking if NEUROD1 is irrelevant\n",
      "...checking if FOXA2 is irrelevant\n",
      "...checking if MAFB is irrelevant\n",
      "...checking if ISL1 is irrelevant\n",
      "...checking if ARX is irrelevant\n"
     ]
    },
    {
     "ename": "AttributeError",
     "evalue": "module 'booleabayes.utils' has no attribute 'draw_grn'",
     "output_type": "error",
     "traceback": [
      "\u001b[0;31m---------------------------------------------------------------------------\u001b[0m",
      "\u001b[0;31mAttributeError\u001b[0m                            Traceback (most recent call last)",
      "\u001b[0;32m/var/folders/vh/xk34gq593k53lzm7wlyg64xw0000gn/T/ipykernel_7984/3105988509.py\u001b[0m in \u001b[0;36m<module>\u001b[0;34m\u001b[0m\n\u001b[1;32m     16\u001b[0m \u001b[0;34m\u001b[0m\u001b[0m\n\u001b[1;32m     17\u001b[0m \u001b[0;31m#Draw the network with the edge weights from the fitted rules\u001b[0m\u001b[0;34m\u001b[0m\u001b[0;34m\u001b[0m\u001b[0;34m\u001b[0m\u001b[0m\n\u001b[0;32m---> 18\u001b[0;31m bb.utils.draw_grn(graph,vertex_dict,rules, regulators_dict,f\"{OUTPUT_DIR}/network.pdf\", save_edge_weights=True,\n\u001b[0m\u001b[1;32m     19\u001b[0m              edge_weights_fname=f\"{OUTPUT_DIR}/rules/edge_weights.csv\")\n",
      "\u001b[0;31mAttributeError\u001b[0m: module 'booleabayes.utils' has no attribute 'draw_grn'"
     ]
    }
   ],
   "source": [
    "# Don't remove any parents\n",
    "node_threshold = 0  \n",
    "\n",
    "# Note: this step may take a while. Nodes with more parents will take longer than others.\n",
    "# For the test data it should take around 45 minutes. Note that we are working on a parallelized method for rule fitting.\n",
    "# Also note that this is much quicker for bulk RNA-seq because the time depends on the number of samples.\n",
    "rules, regulators_dict,strengths, signed_strengths = bb.tl.get_rules(data = data_train,\n",
    "                                                                             vertex_dict=vertex_dict,\n",
    "                                                                             plot=True, show_plot=False, save_plot=True,\n",
    "                                                                             save_dir=f'{OUTPUT_DIR}/rules/rule_plots',\n",
    "                                                                             threshold=node_threshold)\n",
    "\n",
    "# Save rules to text file. This file can  then be read in \n",
    "bb.tl.save_rules(rules, regulators_dict, fname=f'{OUTPUT_DIR}/rules.txt')\n",
    "\n",
    "strengths.to_csv(f'{OUTPUT_DIR}/rules/strengths.csv')\n",
    "signed_strengths.to_csv(f'{OUTPUT_DIR}/rules/signed_strengths.csv')\n"
   ]
  },
  {
   "cell_type": "code",
   "execution_count": 33,
   "metadata": {},
   "outputs": [],
   "source": [
    "#Draw the network with the edge weights from the fitted rules\n",
    "gene2color = {'ARX':[0.98, 0.553, 0,1],'FOXA2':[0.078, 0.42, 0.043,1],'GCG':[0.98, 0.553, 0,1],'INS':[0.212, 0.365, 0.78,1],'ISL1':[0.078, 0.42, 0.043,1],'JUN':[0.98, 0.553, 0,1],\n",
    "              'MAFA':[0.212, 0.365, 0.78,1],'MAFB':[0.98, 0.553, 0,1],'MYC':[0.98, 0.553, 0,1],'NEUROD1':[0.078, 0.42, 0.043,1], 'NEUROG3':[0.29, 0.29, 0.29,1],\n",
    "              'NKX2-2':[0.078, 0.42, 0.043,1],'NKX6-1':[0.212, 0.365, 0.78,1],'PAX4':[0.212, 0.365, 0.78,1],'PAX6':[0.078, 0.42, 0.043,1],'PDX1':[0.212, 0.365, 0.78,1]}\n",
    "\n",
    "G, edge_weight_df, edge_binary_df = bb.plot.draw_grn(graph,vertex_dict,rules, regulators_dict,f\"{OUTPUT_DIR}/network.pdf\", save_edge_weights=True,\n",
    "             edge_weights_fname=f\"{OUTPUT_DIR}/rules/edge_weights.csv\", gene2color=gene2color)"
   ]
  },
  {
   "cell_type": "markdown",
   "metadata": {},
   "source": [
    "**Option 2:** Load existing rules (such as ones previously generated with Option 1) from file using `load.load_rules()`"
   ]
  },
  {
   "cell_type": "code",
   "execution_count": 15,
   "metadata": {},
   "outputs": [],
   "source": [
    "rules, regulators_dict = bb.load.load_rules(fname=f'{OUTPUT_DIR}/rules.txt')\n"
   ]
  },
  {
   "cell_type": "markdown",
   "metadata": {},
   "source": [
    "## Perform Cross Validation and Plot Accuracy Metrics"
   ]
  },
  {
   "cell_type": "markdown",
   "metadata": {},
   "source": [
    "User can call the `tl.fit_validation()` to do cross validation with the test data set.\n",
    "* User can specify whether to show and/or save the plots (this example saves the plots but does not show them here)\n",
    "* View output format in `./test_data/validation`:\n",
    "    - tprs_fprs.csv\n",
    "    - accuracy_plots (csv and pdf)"
   ]
  },
  {
   "cell_type": "code",
   "execution_count": 36,
   "metadata": {},
   "outputs": [],
   "source": [
    "\n",
    "os.mkdir(VAL_DIR)\n",
    "validation, tprs_all, fprs_all, area_all = bb.tl.fit_validation(data_test, data_test_t1 = None, nodes = nodes,\n",
    "                                                                regulators_dict=regulators_dict, rules = rules,\n",
    "                                                                save=True, save_dir=VAL_DIR,\n",
    "                                                                plot = True, show_plots=False, save_df=True)"
   ]
  },
  {
   "cell_type": "markdown",
   "metadata": {},
   "source": [
    "**AUC Plots**\n",
    "* View output format in `./output/validation`:\n",
    "    - aucs.csv\n",
    "    - aucs_plot.pdf\n",
    "    - ROC_AUC_average.pdf"
   ]
  },
  {
   "cell_type": "code",
   "execution_count": 37,
   "metadata": {},
   "outputs": [],
   "source": [
    "# Saves auc values for each gene (node) in the passed directory as 'aucs.csv'\n",
    "bb.tl.save_auc_by_gene(area_all, nodes, VAL_DIR)"
   ]
  },
  {
   "cell_type": "code",
   "execution_count": 39,
   "metadata": {},
   "outputs": [
    {
     "name": "stdout",
     "output_type": "stream",
     "text": [
      "AUC means:  0\n",
      "ARX        0.994043\n",
      "FOXA2      0.682869\n",
      "GCG        0.992152\n",
      "INS        0.995997\n",
      "ISL1       0.881050\n",
      "JUN        0.999966\n",
      "MAFA       0.918799\n",
      "MAFB       0.993769\n",
      "MYC        0.484198\n",
      "NEUROD1    0.991058\n",
      "NEUROG3    0.806586\n",
      "NKX2-2     0.996675\n",
      "NKX6-1     0.866948\n",
      "PAX4       0.948326\n",
      "PAX6       0.979637\n",
      "PDX1       0.887367\n",
      "dtype: float64\n"
     ]
    },
    {
     "data": {
      "image/png": "[encoded data removed]",
      "text/plain": [
       "<Figure size 432x288 with 1 Axes>"
      ]
     },
     "metadata": {
      "needs_background": "light"
     },
     "output_type": "display_data"
    }
   ],
   "source": [
    "# Plot aucs\n",
    "n = len(nodes)\n",
    "aucs = pd.read_csv(f'{VAL_DIR}/aucs.csv', header=None, index_col=0)\n",
    "print(\"AUC means: \",aucs.mean(axis = 1))\n",
    "\n",
    "bb.plot.plot_aucs(VAL_DIR, save=True, show_plot=True)"
   ]
  },
  {
   "cell_type": "code",
   "execution_count": 40,
   "metadata": {},
   "outputs": [],
   "source": [
    "# Function to calculate roc and tpr, fpr, area from saved validation files\n",
    "tpr_all, fpr_all, area_all = bb.tl.roc_from_file(f'{VAL_DIR}/accuracy_plots', nodes, save=True, save_dir=VAL_DIR)"
   ]
  },
  {
   "cell_type": "code",
   "execution_count": 41,
   "metadata": {},
   "outputs": [
    {
     "data": {
      "image/png": "[encoded data removed]",
      "text/plain": [
       "<Figure size 432x288 with 1 Axes>"
      ]
     },
     "metadata": {
      "needs_background": "light"
     },
     "output_type": "display_data"
    }
   ],
   "source": [
    "bb.plot.plot_validation_avgs(fprs_all, tprs_all, len(nodes), area_all, save=True, save_dir=VAL_DIR, show_plot=True)\n"
   ]
  },
  {
   "cell_type": "code",
   "execution_count": 42,
   "metadata": {},
   "outputs": [
    {
     "name": "stdout",
     "output_type": "stream",
     "text": [
      "accuracy\n",
      "balanced_accuracy_score\n",
      "explained_variance\n",
      "f1\n",
      "log-loss\n",
      "max_error\n",
      "precision\n",
      "r2\n",
      "recall\n",
      "roc_auc_score\n"
     ]
    },
    {
     "name": "stderr",
     "output_type": "stream",
     "text": [
      "/Users/smgroves/Documents/anaconda3/envs/multiome/lib/python3.9/site-packages/booleabayes/plot.py:27: FutureWarning: Dropping invalid columns in DataFrameGroupBy.quantile is deprecated. In a future version, a TypeError will be raised. Before calling .quantile, select only columns which should be valid for the function.\n",
      "  q1 = df.groupby(df.variable).quantile(0.25)['value']\n",
      "/Users/smgroves/Documents/anaconda3/envs/multiome/lib/python3.9/site-packages/booleabayes/plot.py:28: FutureWarning: Dropping invalid columns in DataFrameGroupBy.quantile is deprecated. In a future version, a TypeError will be raised. Before calling .quantile, select only columns which should be valid for the function.\n",
      "  q3 = df.groupby(df.variable).quantile(0.75)['value']\n"
     ]
    },
    {
     "data": {
      "text/plain": [
       "<Figure size 432x288 with 0 Axes>"
      ]
     },
     "metadata": {},
     "output_type": "display_data"
    },
    {
     "data": {
      "text/plain": [
       "<Figure size 432x288 with 0 Axes>"
      ]
     },
     "metadata": {},
     "output_type": "display_data"
    },
    {
     "data": {
      "text/plain": [
       "<Figure size 432x288 with 0 Axes>"
      ]
     },
     "metadata": {},
     "output_type": "display_data"
    },
    {
     "data": {
      "text/plain": [
       "<Figure size 432x288 with 0 Axes>"
      ]
     },
     "metadata": {},
     "output_type": "display_data"
    },
    {
     "data": {
      "text/plain": [
       "<Figure size 432x288 with 0 Axes>"
      ]
     },
     "metadata": {},
     "output_type": "display_data"
    },
    {
     "data": {
      "text/plain": [
       "<Figure size 432x288 with 0 Axes>"
      ]
     },
     "metadata": {},
     "output_type": "display_data"
    },
    {
     "data": {
      "text/plain": [
       "<Figure size 432x288 with 0 Axes>"
      ]
     },
     "metadata": {},
     "output_type": "display_data"
    },
    {
     "data": {
      "text/plain": [
       "<Figure size 432x288 with 0 Axes>"
      ]
     },
     "metadata": {},
     "output_type": "display_data"
    },
    {
     "data": {
      "text/plain": [
       "<Figure size 432x288 with 0 Axes>"
      ]
     },
     "metadata": {},
     "output_type": "display_data"
    },
    {
     "data": {
      "text/plain": [
       "<Figure size 432x288 with 0 Axes>"
      ]
     },
     "metadata": {},
     "output_type": "display_data"
    },
    {
     "data": {
      "text/plain": [
       "<Figure size 432x288 with 0 Axes>"
      ]
     },
     "metadata": {},
     "output_type": "display_data"
    },
    {
     "data": {
      "text/plain": [
       "<Figure size 432x288 with 0 Axes>"
      ]
     },
     "metadata": {},
     "output_type": "display_data"
    },
    {
     "data": {
      "text/plain": [
       "<Figure size 432x288 with 0 Axes>"
      ]
     },
     "metadata": {},
     "output_type": "display_data"
    },
    {
     "data": {
      "text/plain": [
       "<Figure size 432x288 with 0 Axes>"
      ]
     },
     "metadata": {},
     "output_type": "display_data"
    },
    {
     "data": {
      "text/plain": [
       "<Figure size 432x288 with 0 Axes>"
      ]
     },
     "metadata": {},
     "output_type": "display_data"
    },
    {
     "data": {
      "text/plain": [
       "<Figure size 432x288 with 0 Axes>"
      ]
     },
     "metadata": {},
     "output_type": "display_data"
    },
    {
     "data": {
      "image/png": "[encoded data removed]",
      "text/plain": [
       "<Figure size 432x288 with 1 Axes>"
      ]
     },
     "metadata": {
      "needs_background": "light"
     },
     "output_type": "display_data"
    }
   ],
   "source": [
    "summary_stats = bb.tl.get_sklearn_metrics(VAL_DIR)\n",
    "bb.plot.plot_sklearn_metrics(VAL_DIR)\n",
    "bb.plot.plot_sklearn_summ_stats(summary_stats.drop(\"max_error\", axis = 1), VAL_DIR, fname = \"\")"
   ]
  },
  {
   "cell_type": "markdown",
   "metadata": {},
   "source": [
    "## Get attractors \n",
    "* `ut.find_avg_states()` returns a dictionary of the average states of each cluster and calls `get_avg_state_index()` to handle average state index files. This is solely used to set the phenotype/cluster label of any attractors found by looking at the nearest average state.\n",
    "* View output format in `./test_data/output`:\n",
    "    - average_states.txt\n",
    "    - average_states_idx_Tumor1.txt\n",
    "    - average_states_idx_Tumor2.txt\n",
    "    - average_states.pdf"
   ]
  },
  {
   "cell_type": "code",
   "execution_count": 44,
   "metadata": {},
   "outputs": [],
   "source": [
    "os.mkdir(ATTRACTOR_DIR)"
   ]
  },
  {
   "cell_type": "markdown",
   "metadata": {},
   "source": [
    "**Find average states**"
   ]
  },
  {
   "cell_type": "code",
   "execution_count": 46,
   "metadata": {},
   "outputs": [
    {
     "name": "stdout",
     "output_type": "stream",
     "text": [
      "Average states:  {'repl': 16512, 'pdx1': 16512, 'nkx61': 16393, 'ph': 65407, 'fev_high_isl_neg': 50295, 'neurog3': 49789, 'sst_hhex': 65399, 'exo': 9897, 'scbeta': 16255, 'ph__pre': 65334, 'ec': 30590, 'foxj1': 63358}\n"
     ]
    },
    {
     "data": {
      "image/png": "[encoded data removed]",
      "text/plain": [
       "<Figure size 288x576 with 1 Axes>"
      ]
     },
     "metadata": {
      "needs_background": "light"
     },
     "output_type": "display_data"
    }
   ],
   "source": [
    "# Find average states from binarized data and write the avg state index files\n",
    "average_states = bb.tl.find_avg_states(binarized_data, nodes, save_dir=OUTPUT_DIR)\n",
    "print('Average states: ', average_states)\n",
    "\n",
    "# Plot average state for each subtype\n",
    "bb.plot.plot_attractors(f'average_states.txt', save_dir=ATTRACTOR_DIR)"
   ]
  },
  {
   "cell_type": "markdown",
   "metadata": {},
   "source": [
    "**Find Attractors**\n",
    "* The `tl.find_attractors()` function finds attractors within some vicinity of all of the starting data (assumption: attractors will fall somewhere close to data). The functions checks if `tf_basin < 0` and if so it calculates the minimum average distance between clusters to use as the \"neighborhood size.\" \n",
    "* If `tf_basin is not < 0` , it uses the tf_basin value as the neighborhood size. We used 4 in the Wooten, Groves, et al. manuscript.\n",
    "* `tl.write_attractor_dict()` writes an attractor dictionary to the specified output file location\n",
    "* View output format in `./test_data/output`:\n",
    "    - attractors_[cluster_name].txt\n",
    "* `on_nodes` and `off_nodes` can be used to find attractors when the network is perturbed. For example, if `on_nodes = [\"MYC\"]`, MYC would be constitutively active in the network. This can be used to determine how perturbations change the stable states of the system. However, a more systematic way is defined below with perturbed random walks. "
   ]
  },
  {
   "cell_type": "code",
   "execution_count": 48,
   "metadata": {},
   "outputs": [
    {
     "name": "stdout",
     "output_type": "stream",
     "text": [
      "repl\n",
      "pdx1\n",
      "nkx61\n",
      "ph\n",
      "... 95.24 % done\n",
      "fev_high_isl_neg\n",
      "neurog3\n",
      "sst_hhex\n",
      "exo\n",
      "scbeta\n",
      "ph__pre\n",
      "ec\n",
      "foxj1\n",
      "Time to find attractors:  0:00:29.680558\n"
     ]
    }
   ],
   "source": [
    "tf_basin = 2\n",
    "on_nodes = []\n",
    "off_nodes = []\n",
    "\n",
    "start = time.time()\n",
    "# note this code also takes a while \n",
    "attractor_dict = bb.tl.find_attractors(binarized_data, rules, nodes, regulators_dict, tf_basin=tf_basin, \n",
    "                                    save_dir=ATTRACTOR_DIR, on_nodes=on_nodes, off_nodes=off_nodes)\n",
    "end = time.time()\n",
    "print('Time to find attractors: ', str(timedelta(seconds=end-start)))"
   ]
  },
  {
   "cell_type": "markdown",
   "metadata": {},
   "source": [
    "**Save and Filter Attractors** \n",
    "* View output format in `./output/attractors`:\n",
    "    - attractors_unfiltered.txt\n",
    "    - attractors_filtered.txt\n"
   ]
  },
  {
   "cell_type": "code",
   "execution_count": 49,
   "metadata": {},
   "outputs": [],
   "source": [
    "with open(f'{ATTRACTOR_DIR}/attractors_unfiltered.txt', 'w+') as outfile:\n",
    "    bb.tl.write_attractor_dict(attractor_dict, nodes, outfile)"
   ]
  },
  {
   "cell_type": "markdown",
   "metadata": {},
   "source": [
    "Use the average states of each cluster to filter attractors. "
   ]
  },
  {
   "cell_type": "code",
   "execution_count": null,
   "metadata": {},
   "outputs": [],
   "source": [
    "attractor_dict_filtered = bb.tl.filter_attractors(ATTRACTOR_DIR, nodes, clusters)"
   ]
  },
  {
   "cell_type": "markdown",
   "metadata": {},
   "source": [
    "**Plotting attractors**"
   ]
  },
  {
   "cell_type": "code",
   "execution_count": null,
   "metadata": {},
   "outputs": [],
   "source": [
    "# Plot attractors for each cluster\n",
    "bb.plot.plot_attractors(f'{ATTRACTOR_DIR}/attractors_filtered.txt')\n",
    "\n",
    "# Plot attractors sorted and clustered-- helpful if there are many attractors found. \n",
    "# bb.plot.plot_attractors_clustermap(fname = f\"{ATTRACTOR_DIR}/attractors_filtered.txt\")\n"
   ]
  },
  {
   "cell_type": "markdown",
   "metadata": {},
   "source": [
    "**Jaccard heatmap**\n",
    "\n",
    "Plot a heatmap of Jaccard distances between attractors. "
   ]
  },
  {
   "cell_type": "code",
   "execution_count": 51,
   "metadata": {},
   "outputs": [
    {
     "name": "stderr",
     "output_type": "stream",
     "text": [
      "/Users/smgroves/Documents/anaconda3/envs/multiome/lib/python3.9/site-packages/sklearn/metrics/pairwise.py:1870: DataConversionWarning: Data was converted to boolean for metric jaccard\n",
      "  warnings.warn(msg, DataConversionWarning)\n"
     ]
    },
    {
     "data": {
      "text/plain": [
       "<Figure size 720x720 with 0 Axes>"
      ]
     },
     "metadata": {},
     "output_type": "display_data"
    },
    {
     "data": {
      "image/png": "[encoded data removed]",
      "text/plain": [
       "<Figure size 720x720 with 6 Axes>"
      ]
     },
     "metadata": {
      "needs_background": "light"
     },
     "output_type": "display_data"
    }
   ],
   "source": [
    "bb.plot.make_jaccard_heatmap(f'{ATTRACTOR_DIR}/attractors_filtered.txt', cmap='viridis',\n",
    "                        clustered=True,\n",
    "                        figsize=(10, 10), save=True)"
   ]
  },
  {
   "cell_type": "markdown",
   "metadata": {},
   "source": [
    "## Perturbations\n",
    "\n",
    "This section follows the perturbation tests done in Wooten, Groves, et al. 2019 (PLOS Comp Bio). See the paper for a full explanation of the perturbations. Briefly, each node of the network is kept on or off (overexpression vs knockout) and random walk simulations are run from each attractor. The amount of time it takes to leave an attractor gives a measure of how stable that attractor is, and how much that stability has changed with the perturbation. You can run single perturbations that you are interested in, or use the code below to run all perturbations and then rank-order them by effect.\n",
    "\n",
    "View the documentation to see what all of the arguments do."
   ]
  },
  {
   "cell_type": "code",
   "execution_count": null,
   "metadata": {},
   "outputs": [],
   "source": [
    "os.mkdir(PERTURB_DIR)\n",
    "bb.rw.random_walks(attractor_dict,\n",
    "                    rules,\n",
    "                    regulators_dict,\n",
    "                    nodes,\n",
    "                    save_dir = PERTURB_DIR,\n",
    "                    radius=2,\n",
    "                    perturbations=True,\n",
    "                    iters=500,\n",
    "                    max_steps=500,\n",
    "                    stability=False,\n",
    "                    reach_or_leave=\"leave\",\n",
    "                    random_start=False,\n",
    "                    on_nodes=[],\n",
    "                    off_nodes=[],\n",
    "                    overwrite_walks=False\n",
    "                    )"
   ]
  },
  {
   "cell_type": "code",
   "execution_count": null,
   "metadata": {},
   "outputs": [],
   "source": [
    "bb.tl.perturbations_summary(attractor_dict,PERTURB_DIR, show = False, save = True, plot_by_attractor = True,\n",
    "                                save_dir = \"clustered_perturb_plots\", save_full = True, significance = 'both', fname = \"\",\n",
    "                                ncols = 5, mean_threshold = -0.3)"
   ]
  }
 ],
 "metadata": {
  "kernelspec": {
   "display_name": "multiome",
   "language": "python",
   "name": "python3"
  },
  "language_info": {
   "codemirror_mode": {
    "name": "ipython",
    "version": 3
   },
   "file_extension": ".py",
   "mimetype": "text/x-python",
   "name": "python",
   "nbconvert_exporter": "python",
   "pygments_lexer": "ipython3",
   "version": "3.9.6"
  }
 },
 "nbformat": 4,
 "nbformat_minor": 4
}
